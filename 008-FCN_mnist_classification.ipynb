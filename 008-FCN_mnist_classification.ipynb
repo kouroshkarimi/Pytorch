{
 "metadata": {
  "language_info": {
   "codemirror_mode": {
    "name": "ipython",
    "version": 3
   },
   "file_extension": ".py",
   "mimetype": "text/x-python",
   "name": "python",
   "nbconvert_exporter": "python",
   "pygments_lexer": "ipython3",
   "version": "3.8.5-final"
  },
  "orig_nbformat": 2,
  "kernelspec": {
   "name": "python3",
   "display_name": "Python 3",
   "language": "python"
  }
 },
 "nbformat": 4,
 "nbformat_minor": 2,
 "cells": [
  {
   "cell_type": "code",
   "execution_count": 1,
   "metadata": {},
   "outputs": [],
   "source": [
    "import numpy as np\n",
    "import math\n",
    "from sklearn.preprocessing import normalize\n",
    "import matplotlib.pyplot as plt\n",
    "import torch\n",
    "from torch import nn\n",
    "from IPython import display\n",
    "import cv2\n",
    "import random\n",
    "from sklearn.model_selection import train_test_split"
   ]
  },
  {
   "cell_type": "code",
   "execution_count": 2,
   "metadata": {},
   "outputs": [],
   "source": [
    "device = torch.device(\"cuda:0\" if torch.cuda.is_available() else \"cpu\")"
   ]
  },
  {
   "cell_type": "code",
   "execution_count": 3,
   "metadata": {},
   "outputs": [
    {
     "output_type": "execute_result",
     "data": {
      "text/plain": [
       "<torch._C.Generator at 0x278e5780d70>"
      ]
     },
     "metadata": {},
     "execution_count": 3
    }
   ],
   "source": [
    "seed = 12345\n",
    "random.seed(seed)\n",
    "torch.manual_seed(seed)\n"
   ]
  },
  {
   "cell_type": "code",
   "execution_count": 4,
   "metadata": {},
   "outputs": [
    {
     "output_type": "stream",
     "name": "stdout",
     "text": [
      "(5000, 400)\n(5000,)\n"
     ]
    }
   ],
   "source": [
    "import numpy as np\n",
    "import math\n",
    "from sklearn.preprocessing import normalize\n",
    "import matplotlib.pyplot as plt\n",
    "\n",
    "\n",
    "Xp = np.genfromtxt(\"X.csv\", delimiter = \",\")\n",
    "y = np.genfromtxt(\"y.csv\", delimiter = \",\")\n",
    "y[0:500] = 0\n",
    "X = np.zeros((5000,400))\n",
    "X = Xp\n",
    "X = normalize(X)\n",
    "\"\"\"X[:,1] = 1\n",
    "X[:,1:] = Xp\"\"\"\n",
    "\n",
    "print(X.shape)\n",
    "print(y.shape)\n",
    "Xtrain, Xtest, ytrain, ytest = train_test_split(X ,y , test_size = 0.25, random_state = 42)"
   ]
  },
  {
   "cell_type": "code",
   "execution_count": 5,
   "metadata": {},
   "outputs": [
    {
     "output_type": "execute_result",
     "data": {
      "text/plain": [
       "0.0"
      ]
     },
     "metadata": {},
     "execution_count": 5
    }
   ],
   "source": [
    "\n",
    "Xtrain = torch.tensor(Xtrain).to(device)\n",
    "ytrain = torch.tensor(ytrain).to(device)\n",
    "Xtest = torch.tensor(Xtest).to(device)\n",
    "ytest = torch.tensor(ytest).to(device)\n",
    "\n",
    "# y = nn.functional.one_hot(y.long())\n",
    "#print(y.size())\n",
    "y[20]"
   ]
  },
  {
   "cell_type": "code",
   "execution_count": 6,
   "metadata": {},
   "outputs": [
    {
     "output_type": "display_data",
     "data": {
      "text/plain": "<Figure size 432x288 with 1 Axes>",
      "image/svg+xml": "<?xml version=\"1.0\" encoding=\"utf-8\" standalone=\"no\"?>\r\n<!DOCTYPE svg PUBLIC \"-//W3C//DTD SVG 1.1//EN\"\r\n  \"http://www.w3.org/Graphics/SVG/1.1/DTD/svg11.dtd\">\r\n<!-- Created with matplotlib (https://matplotlib.org/) -->\r\n<svg height=\"231.84pt\" version=\"1.1\" viewBox=\"0 0 231.84 231.84\" width=\"231.84pt\" xmlns=\"http://www.w3.org/2000/svg\" xmlns:xlink=\"http://www.w3.org/1999/xlink\">\r\n <metadata>\r\n  <rdf:RDF xmlns:cc=\"http://creativecommons.org/ns#\" xmlns:dc=\"http://purl.org/dc/elements/1.1/\" xmlns:rdf=\"http://www.w3.org/1999/02/22-rdf-syntax-ns#\">\r\n   <cc:Work>\r\n    <dc:type rdf:resource=\"http://purl.org/dc/dcmitype/StillImage\"/>\r\n    <dc:date>2021-02-23T21:17:42.262855</dc:date>\r\n    <dc:format>image/svg+xml</dc:format>\r\n    <dc:creator>\r\n     <cc:Agent>\r\n      <dc:title>Matplotlib v3.3.2, https://matplotlib.org/</dc:title>\r\n     </cc:Agent>\r\n    </dc:creator>\r\n   </cc:Work>\r\n  </rdf:RDF>\r\n </metadata>\r\n <defs>\r\n  <style type=\"text/css\">*{stroke-linecap:butt;stroke-linejoin:round;}</style>\r\n </defs>\r\n <g id=\"figure_1\">\r\n  <g id=\"patch_1\">\r\n   <path d=\"M 0 231.84 \r\nL 231.84 231.84 \r\nL 231.84 0 \r\nL 0 0 \r\nz\r\n\" style=\"fill:none;\"/>\r\n  </g>\r\n  <g id=\"axes_1\">\r\n   <g clip-path=\"url(#p7d58009b8a)\">\r\n    <image height=\"218\" id=\"imagec406ce6734\" transform=\"scale(1 -1)translate(0 -218)\" width=\"218\" x=\"7.2\" xlink:href=\"data:image/png;base64,\r\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\" y=\"-6.64\"/>\r\n   </g>\r\n  </g>\r\n </g>\r\n <defs>\r\n  <clipPath id=\"p7d58009b8a\">\r\n   <rect height=\"217.44\" width=\"217.44\" x=\"7.2\" y=\"7.2\"/>\r\n  </clipPath>\r\n </defs>\r\n</svg>\r\n",
      "image/png": "[encoded data removed]"
     },
     "metadata": {
      "needs_background": "light"
     }
    }
   ],
   "source": [
    "index = 20\n",
    "img = np.reshape(Xtrain[index,:], (20,20))\n",
    "img = np.rot90(img, -1)\n",
    "img = np.flip(img,1)\n",
    "plt.imshow(img, cmap = \"binary\")\n",
    "plt.axis(\"off\")\n",
    "plt.show()"
   ]
  },
  {
   "cell_type": "code",
   "execution_count": 28,
   "metadata": {},
   "outputs": [],
   "source": [
    "learning_rate = 1e-2\n",
    "lambda_l2 = 1e-4"
   ]
  },
  {
   "cell_type": "code",
   "execution_count": 41,
   "metadata": {},
   "outputs": [
    {
     "output_type": "stream",
     "name": "stdout",
     "text": [
      "[EPOCH]: 1999, [LOSS]: 1.492849, [ACCURACY]: 0.986\n"
     ]
    }
   ],
   "source": [
    "model = nn.Sequential(nn.Linear(400, 20), nn.ReLU(),\n",
    "                      nn.Linear(20, 10), nn.Softmax())\n",
    "\n",
    "criterion = nn.CrossEntropyLoss()\n",
    "optimizer = torch.optim.Adam(model.parameters(), lr = learning_rate, weight_decay = lambda_l2)\n",
    "\n",
    "epochs = 2000\n",
    "\n",
    "for i in range(epochs):\n",
    "    y_pred = model(Xtrain.float())\n",
    "    loss = criterion(y_pred, ytrain.long())\n",
    "    score, predicted = torch.max(y_pred, 1) \n",
    "    acc = (ytrain == predicted).sum().float() / len(ytrain)\n",
    "    print(\"[EPOCH]: %i, [LOSS]: %.6f, [ACCURACY]: %.3f\" % (i, loss.item(), acc))\n",
    "    display.clear_output(wait=True)\n",
    "    optimizer.zero_grad()\n",
    "    loss.backward()\n",
    "    optimizer.step()"
   ]
  },
  {
   "cell_type": "code",
   "execution_count": 42,
   "metadata": {},
   "outputs": [
    {
     "output_type": "stream",
     "name": "stdout",
     "text": [
      "Accuracy on test set is 0.9351999759674072\n"
     ]
    }
   ],
   "source": [
    "y_t = model(Xtest.float())\n",
    "score, predicted = torch.max(y_t, 1) \n",
    "acc = (ytest == predicted).sum().float() / len(ytest)\n",
    "print(f\"Accuracy on test set is {acc}\")"
   ]
  },
  {
   "cell_type": "code",
   "execution_count": 244,
   "metadata": {},
   "outputs": [
    {
     "output_type": "stream",
     "name": "stdout",
     "text": [
      "tensor(3)\ntensor(1.0000, grad_fn=<MaxBackward1>)\n"
     ]
    },
    {
     "output_type": "display_data",
     "data": {
      "text/plain": "<Figure size 432x288 with 1 Axes>",
      "image/svg+xml": "<?xml version=\"1.0\" encoding=\"utf-8\" standalone=\"no\"?>\r\n<!DOCTYPE svg PUBLIC \"-//W3C//DTD SVG 1.1//EN\"\r\n  \"http://www.w3.org/Graphics/SVG/1.1/DTD/svg11.dtd\">\r\n<!-- Created with matplotlib (https://matplotlib.org/) -->\r\n<svg height=\"231.84pt\" version=\"1.1\" viewBox=\"0 0 231.84 231.84\" width=\"231.84pt\" xmlns=\"http://www.w3.org/2000/svg\" xmlns:xlink=\"http://www.w3.org/1999/xlink\">\r\n <metadata>\r\n  <rdf:RDF xmlns:cc=\"http://creativecommons.org/ns#\" xmlns:dc=\"http://purl.org/dc/elements/1.1/\" xmlns:rdf=\"http://www.w3.org/1999/02/22-rdf-syntax-ns#\">\r\n   <cc:Work>\r\n    <dc:type rdf:resource=\"http://purl.org/dc/dcmitype/StillImage\"/>\r\n    <dc:date>2021-02-23T21:03:59.471396</dc:date>\r\n    <dc:format>image/svg+xml</dc:format>\r\n    <dc:creator>\r\n     <cc:Agent>\r\n      <dc:title>Matplotlib v3.3.2, https://matplotlib.org/</dc:title>\r\n     </cc:Agent>\r\n    </dc:creator>\r\n   </cc:Work>\r\n  </rdf:RDF>\r\n </metadata>\r\n <defs>\r\n  <style type=\"text/css\">*{stroke-linecap:butt;stroke-linejoin:round;}</style>\r\n </defs>\r\n <g id=\"figure_1\">\r\n  <g id=\"patch_1\">\r\n   <path d=\"M 0 231.84 \r\nL 231.84 231.84 \r\nL 231.84 0 \r\nL 0 0 \r\nz\r\n\" style=\"fill:none;\"/>\r\n  </g>\r\n  <g id=\"axes_1\">\r\n   <g clip-path=\"url(#paf245de973)\">\r\n    <image height=\"218\" id=\"imagef1ed5360db\" transform=\"scale(1 -1)translate(0 -218)\" width=\"218\" x=\"7.2\" xlink:href=\"data:image/png;base64,\r\niVBORw0KGgoAAAANSUhEUgAAANoAAADaCAYAAADAHVzbAAAGfklEQVR4nO3dsW/N7R/G8VNtVSLRpJJGisWgkxQxITqwITE0xFKDSSJdrRISGpN0IhYMVmIWM3MXTcpgkEij5IiiWr8/4fe5nzznon1er/nKycnRt+9y5/72dbvd3x2gp7b86S8A/wVCgwChQYDQIEBoECA0CBAaBAgNAoQGAUKDgIE//QU6nU6nv7+/vN2yZeP83/D7d/10W8t2bW3tn3wd/qCN81cLG5jQIEBoECA0CBAaBAgNAoQGAUKDAKFBgNAgoGdHsNbX18vbxcXF8vbly5el3aNHj8qfuX379vL26NGj5e2pU6fK2/Hx8fJ2dHS0vG05rtVyDIw2nmgQIDQIEBoECA0ChAYBQoMAoUGA0CBAaBAgNAjoa3kRYcttVUtLS+XthQsXyttXr16Vdr06TtTX11fe7ty5s7zdu3dveTszM1PeTk1NlbctN4y5iauNJxoECA0ChAYBQoMAoUGA0CBAaBAgNAgQGgQIDQKajmANDNQvzXr//n15e/bs2fL2wIEDpd358+fLnzk4OFjevnnzprx9/PhxedtyE9iOHTvK25bf4dq1a+Vty/Eyx7U80SBCaBAgNAgQGgQIDQKEBgFCgwChQYDQIEBoEND0IsKWm6VajjXt3r27vJ2eni7tWo51/fr1q7w9ffp0eXvu3Lny9t69e+XtgwcPytv79++Xt6urq+XtnTt3ytvq7Vqb+UWInmgQIDQIEBoECA0ChAYBQoMAoUGA0CBAaBDQdDlPy7vBWk4ZLCwslLdjY2Ol3cjISPkzWy6P+fnzZ08+d2hoqLydm5srb1tOhqysrJS3s7Oz5e3FixdLu818iY8nGgQIDQKEBgFCgwChQYDQIEBoECA0CBAaBAgNAnp2OU/Lu9QmJibK214c01leXi5vL126VN5++vSpvD127Fh52/IbtPybff78ubydn58vb6tajvhttIt8PNEgQGgQIDQIEBoECA0ChAYBQoMAoUGA0CBAaBDQdASrV1puzKpqOc4zPDxc3o6Pj5e3Le88a7kJrL+/v7ytvpus0+l0jhw5Ut4eP368vK0el9pox6paeKJBgNAgQGgQIDQIEBoECA0ChAYBQoMAoUGA0CDgrziC1Qstx3kGBwfL21u3bpW3+/btK2+fPHlS3r59+7a8bXlx4okTJ8rbkydPlrfVI2Pr6+vlz9xoPNEgQGgQIDQIEBoECA0ChAYBQoMAoUGA0CBAaBDQ1+12N+/VQz3QcgNVy01c3759K2/n5ubK24cPH5a3X79+LW/PnDlT3l65cqW0O3jwYPkzf/z4Ud7+DTzRIEBoECA0CBAaBAgNAoQGAUKDAKFBgNAgQGgQ4AhWo5YjWC23OrW8MLDlZqsXL16Ut7Ozs+Xt69evy9vDhw+Xdrdv3y5/5uTkZHnb8nv1iicaBAgNAoQGAUKDAKFBgNAgQGgQIDQIEBoECA0CHMHqtB2VWl5eLm9HRkbK26GhofK25XatliNji4uL5e3NmzfL26dPn5Z2Lb/X9evXy9upqanytkXLyy490SBAaBAgNAgQGgQIDQKEBgFCgwChQYDQIEBoELBpj2C13Cq1tLRU3l6+fLm8PXToUHk7PT1d3ra8hK/leNnWrVvL24WFhfL2xo0b//pn7t+/v7x99uxZebtr167ydm1trbz1RIMAoUGA0CBAaBAgNAgQGgQIDQKEBgFCgwChQcDAn/4CvdJyQ9Hw8HB523Ks6u7du+Xt8+fPy9teabkxq9vtlrcfP34s7VqONI2NjZW327ZtK29b/m5aeKJBgNAgQGgQIDQIEBoECA0ChAYBQoMAoUGA0CDAEaxO2+1PV69e/Sdf5/+an58vb9+9e1fefv/+vbxtecni6OhoeTs5OVnatdxcNjMzU962vOBwdXW1vG3hiQYBQoMAoUGA0CBAaBAgNAgQGgQIDQKEBgGb9v1ovdJyemFgoH7wZmVlpbxtORny5cuX8vbDhw/l7Z49e8rbiYmJ0q7lcp6W3/Zv4IkGAUKDAKFBgNAgQGgQIDQIEBoECA0ChAYBQoMAR7D+En19feVty/Gjls9teT9ay3GpXlx406v3mPWKJxoECA0ChAYBQoMAoUGA0CBAaBAgNAgQGgQIDQI21lVCm1jLkaJevcOL3vFEgwChQYDQIEBoECA0CBAaBAgNAoQGAUKDAKFBgNAgQGgQIDQIEBoECA0ChAYBQoMAoUGA0CBAaBAgNAj4H73VY+cZilB2AAAAAElFTkSuQmCC\" y=\"-6.64\"/>\r\n   </g>\r\n  </g>\r\n </g>\r\n <defs>\r\n  <clipPath id=\"paf245de973\">\r\n   <rect height=\"217.44\" width=\"217.44\" x=\"7.2\" y=\"7.2\"/>\r\n  </clipPath>\r\n </defs>\r\n</svg>\r\n",
      "image/png": "[encoded data removed]"
     },
     "metadata": {
      "needs_background": "light"
     }
    },
    {
     "output_type": "stream",
     "name": "stdout",
     "text": [
      "tensor(3., dtype=torch.float64)\n"
     ]
    }
   ],
   "source": [
    "index = 18\n",
    "arg = torch.argmax(model(Xtest[index,:].float()))\n",
    "print(arg)\n",
    "print(torch.max(model(Xtest[index,:].float())))\n",
    "img = np.reshape(Xtest[index,:], (20,20))\n",
    "img = np.rot90(img, -1)\n",
    "img = np.flip(img,1)\n",
    "plt.imshow(img, cmap = \"binary\")\n",
    "plt.axis(\"off\")\n",
    "plt.show()\n",
    "print(ytest[index])"
   ]
  },
  {
   "cell_type": "code",
   "execution_count": 247,
   "metadata": {},
   "outputs": [
    {
     "output_type": "execute_result",
     "data": {
      "text/plain": [
       "tensor(3)"
      ]
     },
     "metadata": {},
     "execution_count": 247
    },
    {
     "output_type": "display_data",
     "data": {
      "text/plain": "<Figure size 432x288 with 1 Axes>",
      "image/svg+xml": "<?xml version=\"1.0\" encoding=\"utf-8\" standalone=\"no\"?>\r\n<!DOCTYPE svg PUBLIC \"-//W3C//DTD SVG 1.1//EN\"\r\n  \"http://www.w3.org/Graphics/SVG/1.1/DTD/svg11.dtd\">\r\n<!-- Created with matplotlib (https://matplotlib.org/) -->\r\n<svg height=\"231.84pt\" version=\"1.1\" viewBox=\"0 0 231.84 231.84\" width=\"231.84pt\" xmlns=\"http://www.w3.org/2000/svg\" xmlns:xlink=\"http://www.w3.org/1999/xlink\">\r\n <metadata>\r\n  <rdf:RDF xmlns:cc=\"http://creativecommons.org/ns#\" xmlns:dc=\"http://purl.org/dc/elements/1.1/\" xmlns:rdf=\"http://www.w3.org/1999/02/22-rdf-syntax-ns#\">\r\n   <cc:Work>\r\n    <dc:type rdf:resource=\"http://purl.org/dc/dcmitype/StillImage\"/>\r\n    <dc:date>2021-02-23T21:04:12.426458</dc:date>\r\n    <dc:format>image/svg+xml</dc:format>\r\n    <dc:creator>\r\n     <cc:Agent>\r\n      <dc:title>Matplotlib v3.3.2, https://matplotlib.org/</dc:title>\r\n     </cc:Agent>\r\n    </dc:creator>\r\n   </cc:Work>\r\n  </rdf:RDF>\r\n </metadata>\r\n <defs>\r\n  <style type=\"text/css\">*{stroke-linecap:butt;stroke-linejoin:round;}</style>\r\n </defs>\r\n <g id=\"figure_1\">\r\n  <g id=\"patch_1\">\r\n   <path d=\"M 0 231.84 \r\nL 231.84 231.84 \r\nL 231.84 0 \r\nL 0 0 \r\nz\r\n\" style=\"fill:none;\"/>\r\n  </g>\r\n  <g id=\"axes_1\">\r\n   <g clip-path=\"url(#p32b762beed)\">\r\n    <image height=\"218\" id=\"image3b17ab3314\" transform=\"scale(1 -1)translate(0 -218)\" width=\"218\" x=\"7.2\" xlink:href=\"data:image/png;base64,\r\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\" y=\"-6.64\"/>\r\n   </g>\r\n  </g>\r\n </g>\r\n <defs>\r\n  <clipPath id=\"p32b762beed\">\r\n   <rect height=\"217.44\" width=\"217.44\" x=\"7.2\" y=\"7.2\"/>\r\n  </clipPath>\r\n </defs>\r\n</svg>\r\n",
      "image/png": "[encoded data removed]"
     },
     "metadata": {
      "needs_background": "light"
     }
    }
   ],
   "source": [
    "img = cv2.imread(\"a3.jpg\",0)\n",
    "img = cv2.bitwise_not(img)\n",
    "#img = normalize(img)\n",
    "img = torch.tensor(img)\n",
    "img = torch.reshape(img,(20,20))\n",
    "plt.imshow(img, cmap = \"binary\")\n",
    "plt.axis(\"off\")\n",
    "img = torch.reshape(img,(1,400))\n",
    "arg = torch.argmax(model(img.float()))\n",
    "arg"
   ]
  },
  {
   "cell_type": "code",
   "execution_count": 32,
   "metadata": {},
   "outputs": [
    {
     "output_type": "stream",
     "name": "stdout",
     "text": [
      "Accuracy on test set is 0.9296000003814697\n"
     ]
    }
   ],
   "source": []
  },
  {
   "cell_type": "code",
   "execution_count": null,
   "metadata": {},
   "outputs": [],
   "source": []
  }
 ]
}