{
 "metadata": {
  "language_info": {
   "codemirror_mode": {
    "name": "ipython",
    "version": 3
   },
   "file_extension": ".py",
   "mimetype": "text/x-python",
   "name": "python",
   "nbconvert_exporter": "python",
   "pygments_lexer": "ipython3",
   "version": "3.8.5"
  },
  "orig_nbformat": 2,
  "kernelspec": {
   "name": "python3",
   "display_name": "Python 3",
   "language": "python"
  }
 },
 "nbformat": 4,
 "nbformat_minor": 2,
 "cells": [
  {
   "source": [
    "# GAN (Generative Adversarial Network)"
   ],
   "cell_type": "code",
   "metadata": {},
   "execution_count": null,
   "outputs": []
  },
  {
   "source": [
    "<img src=\"https://miro.medium.com/max/1400/0*0_067YjiG3afW-ed.png\" width=800 />"
   ],
   "cell_type": "markdown",
   "metadata": {}
  },
  {
   "source": [
    "#### Conv2d transpose\n",
    "<img src=\"https://miro.medium.com/max/1904/1*faRskFzI7GtvNCLNeCN8cg.png\" width=800 />"
   ],
   "cell_type": "markdown",
   "metadata": {}
  },
  {
   "source": [
    "nn.ConvTranspose2d(\n",
    "    in_channels: int,\n",
    "    out_channels: int,\n",
    "    kernel_size: Union[int, Tuple[int, int]],\n",
    "    stride: Union[int, Tuple[int, int]] = 1,\n",
    "    padding: Union[int, Tuple[int, int]] = 0,\n",
    "    output_padding: Union[int, Tuple[int, int]] = 0,\n",
    "    groups: int = 1,\n",
    "    bias: bool = True,\n",
    "    dilation: int = 1,\n",
    "    padding_mode: str = 'zeros',\n",
    ")"
   ],
   "cell_type": "code",
   "metadata": {},
   "execution_count": null,
   "outputs": []
  },
  {
   "cell_type": "code",
   "execution_count": 8,
   "metadata": {},
   "outputs": [],
   "source": [
    "import torch\n",
    "from torch import nn\n",
    "import torch.nn.functional as F\n",
    "import torch.optim as optim\n",
    "from torchvision import datasets, transforms\n",
    "from torch.autograd import Variable"
   ]
  },
  {
   "cell_type": "code",
   "execution_count": 9,
   "metadata": {},
   "outputs": [],
   "source": [
    "device = torch.device('cuda' if torch.cuda.is_available() else \"cpu\")"
   ]
  },
  {
   "cell_type": "code",
   "execution_count": 43,
   "metadata": {},
   "outputs": [],
   "source": [
    "bs = 100\n",
    "\n",
    "# MNIST Dataset\n",
    "transform = transforms.Compose([\n",
    "    transforms.ToTensor(),\n",
    "    transforms.Normalize((0.5,), (0.5,))])\n",
    "\n",
    "train_dataset = datasets.MNIST(root='./mnist_data/', train=True, transform=transform, download=True)\n",
    "test_dataset = datasets.MNIST(root='./mnist_data/', train=False, transform=transform, download=False)\n",
    "\n",
    "# Data Loader (Input Pipeline)\n",
    "train_loader = torch.utils.data.DataLoader(dataset=train_dataset, batch_size=bs, shuffle=True)\n",
    "test_loader = torch.utils.data.DataLoader(dataset=test_dataset, batch_size=bs, shuffle=False)"
   ]
  },
  {
   "cell_type": "code",
   "execution_count": 44,
   "metadata": {},
   "outputs": [],
   "source": [
    "class Generator(nn.Module):\n",
    "    def __init__(self, g_input_dim, g_output_dim):\n",
    "        super(Generator, self).__init__()       \n",
    "        self.fc1 = nn.Linear(g_input_dim, 256)\n",
    "        self.fc2 = nn.Linear(self.fc1.out_features, self.fc1.out_features*2)\n",
    "        self.fc3 = nn.Linear(self.fc2.out_features, self.fc2.out_features*2)\n",
    "        self.fc4 = nn.Linear(self.fc3.out_features, g_output_dim)\n",
    "    \n",
    "    # forward method\n",
    "    def forward(self, x): \n",
    "        x = F.leaky_relu(self.fc1(x), 0.2)\n",
    "        x = F.leaky_relu(self.fc2(x), 0.2)\n",
    "        x = F.leaky_relu(self.fc3(x), 0.2)\n",
    "        return torch.tanh(self.fc4(x))"
   ]
  },
  {
   "cell_type": "code",
   "execution_count": 45,
   "metadata": {},
   "outputs": [],
   "source": [
    "class Discriminator(nn.Module):\n",
    "    def __init__(self, d_input_dim):\n",
    "        super(Discriminator, self).__init__()\n",
    "        self.fc1 = nn.Linear(d_input_dim, 1024)\n",
    "        self.fc2 = nn.Linear(self.fc1.out_features, self.fc1.out_features//2)\n",
    "        self.fc3 = nn.Linear(self.fc2.out_features, self.fc2.out_features//2)\n",
    "        self.fc4 = nn.Linear(self.fc3.out_features, 1)\n",
    "    \n",
    "    # forward method\n",
    "    def forward(self, x):\n",
    "        x = F.leaky_relu(self.fc1(x), 0.2)\n",
    "        x = F.dropout(x, 0.3)\n",
    "        x = F.leaky_relu(self.fc2(x), 0.2)\n",
    "        x = F.dropout(x, 0.3)\n",
    "        x = F.leaky_relu(self.fc3(x), 0.2)\n",
    "        x = F.dropout(x, 0.3)\n",
    "        return torch.sigmoid(self.fc4(x))"
   ]
  },
  {
   "cell_type": "code",
   "execution_count": 46,
   "metadata": {},
   "outputs": [
    {
     "output_type": "stream",
     "name": "stderr",
     "text": [
      "D:\\Anaconda\\lib\\site-packages\\torchvision\\datasets\\mnist.py:58: UserWarning: train_data has been renamed data\n  warnings.warn(\"train_data has been renamed data\")\n"
     ]
    }
   ],
   "source": [
    "# build network\n",
    "z_dim = 100\n",
    "mnist_dim = train_dataset.train_data.size(1) * train_dataset.train_data.size(2)\n",
    "\n",
    "G = Generator(g_input_dim = z_dim, g_output_dim = mnist_dim).to(device)\n",
    "D = Discriminator(mnist_dim).to(device)"
   ]
  },
  {
   "cell_type": "code",
   "execution_count": 47,
   "metadata": {},
   "outputs": [],
   "source": [
    "# loss\n",
    "criterion = nn.BCELoss() \n",
    "\n",
    "# optimizer\n",
    "lr = 0.0002 \n",
    "G_optimizer = optim.Adam(G.parameters(), lr = lr)\n",
    "D_optimizer = optim.Adam(D.parameters(), lr = lr)"
   ]
  },
  {
   "cell_type": "code",
   "execution_count": 48,
   "metadata": {},
   "outputs": [],
   "source": [
    "def D_train(x):\n",
    "    #=======================Train the discriminator=======================#\n",
    "    D.zero_grad()\n",
    "\n",
    "    # train discriminator on real\n",
    "    x_real, y_real = x.view(-1, mnist_dim), torch.ones(bs, 1)\n",
    "    x_real, y_real = Variable(x_real.to(device)), Variable(y_real.to(device))\n",
    "\n",
    "    D_output = D(x_real)\n",
    "    D_real_loss = criterion(D_output, y_real)\n",
    "    D_real_score = D_output\n",
    "\n",
    "    # train discriminator on facke\n",
    "    z = Variable(torch.randn(bs, z_dim).to(device))\n",
    "    x_fake, y_fake = G(z), Variable(torch.zeros(bs, 1).to(device))\n",
    "\n",
    "    D_output = D(x_fake)\n",
    "    D_fake_loss = criterion(D_output, y_fake)\n",
    "    D_fake_score = D_output\n",
    "\n",
    "    # gradient backprop & optimize ONLY D's parameters\n",
    "    D_loss = D_real_loss + D_fake_loss\n",
    "    D_loss.backward()\n",
    "    D_optimizer.step()\n",
    "        \n",
    "    return  D_loss.data.item()"
   ]
  },
  {
   "cell_type": "code",
   "execution_count": 49,
   "metadata": {},
   "outputs": [],
   "source": [
    "def G_train(x):\n",
    "    #=======================Train the generator=======================#\n",
    "    G.zero_grad()\n",
    "\n",
    "    z = Variable(torch.randn(bs, z_dim).to(device))\n",
    "    y = Variable(torch.ones(bs, 1).to(device))\n",
    "\n",
    "    G_output = G(z)\n",
    "    D_output = D(G_output)\n",
    "    G_loss = criterion(D_output, y)\n",
    "\n",
    "    # gradient backprop & optimize ONLY G's parameters\n",
    "    G_loss.backward()\n",
    "    G_optimizer.step()\n",
    "        \n",
    "    return G_loss.data.item()"
   ]
  },
  {
   "cell_type": "code",
   "execution_count": 84,
   "metadata": {},
   "outputs": [
    {
     "output_type": "stream",
     "name": "stdout",
     "text": [
      "[1/100]: loss_d: 1.217, loss_g: 1.002\n",
      "[2/100]: loss_d: 1.218, loss_g: 0.993\n",
      "[3/100]: loss_d: 1.219, loss_g: 0.982\n",
      "[4/100]: loss_d: 1.206, loss_g: 1.015\n",
      "[5/100]: loss_d: 1.212, loss_g: 1.003\n",
      "[6/100]: loss_d: 1.220, loss_g: 0.990\n",
      "[7/100]: loss_d: 1.222, loss_g: 0.978\n",
      "[8/100]: loss_d: 1.224, loss_g: 0.984\n"
     ]
    },
    {
     "output_type": "error",
     "ename": "KeyboardInterrupt",
     "evalue": "",
     "traceback": [
      "\u001b[1;31m---------------------------------------------------------------------------\u001b[0m",
      "\u001b[1;31mKeyboardInterrupt\u001b[0m                         Traceback (most recent call last)",
      "\u001b[1;32m<ipython-input-84-3da22230eadf>\u001b[0m in \u001b[0;36m<module>\u001b[1;34m\u001b[0m\n\u001b[0;32m      3\u001b[0m     \u001b[0mD_losses\u001b[0m\u001b[1;33m,\u001b[0m \u001b[0mG_losses\u001b[0m \u001b[1;33m=\u001b[0m \u001b[1;33m[\u001b[0m\u001b[1;33m]\u001b[0m\u001b[1;33m,\u001b[0m \u001b[1;33m[\u001b[0m\u001b[1;33m]\u001b[0m\u001b[1;33m\u001b[0m\u001b[1;33m\u001b[0m\u001b[0m\n\u001b[0;32m      4\u001b[0m     \u001b[1;32mfor\u001b[0m \u001b[0mbatch_idx\u001b[0m\u001b[1;33m,\u001b[0m \u001b[1;33m(\u001b[0m\u001b[0mx\u001b[0m\u001b[1;33m,\u001b[0m \u001b[0m_\u001b[0m\u001b[1;33m)\u001b[0m \u001b[1;32min\u001b[0m \u001b[0menumerate\u001b[0m\u001b[1;33m(\u001b[0m\u001b[0mtrain_loader\u001b[0m\u001b[1;33m)\u001b[0m\u001b[1;33m:\u001b[0m\u001b[1;33m\u001b[0m\u001b[1;33m\u001b[0m\u001b[0m\n\u001b[1;32m----> 5\u001b[1;33m         \u001b[0mD_losses\u001b[0m\u001b[1;33m.\u001b[0m\u001b[0mappend\u001b[0m\u001b[1;33m(\u001b[0m\u001b[0mD_train\u001b[0m\u001b[1;33m(\u001b[0m\u001b[0mx\u001b[0m\u001b[1;33m)\u001b[0m\u001b[1;33m)\u001b[0m\u001b[1;33m\u001b[0m\u001b[1;33m\u001b[0m\u001b[0m\n\u001b[0m\u001b[0;32m      6\u001b[0m         \u001b[0mG_losses\u001b[0m\u001b[1;33m.\u001b[0m\u001b[0mappend\u001b[0m\u001b[1;33m(\u001b[0m\u001b[0mG_train\u001b[0m\u001b[1;33m(\u001b[0m\u001b[0mx\u001b[0m\u001b[1;33m)\u001b[0m\u001b[1;33m)\u001b[0m\u001b[1;33m\u001b[0m\u001b[1;33m\u001b[0m\u001b[0m\n\u001b[0;32m      7\u001b[0m \u001b[1;33m\u001b[0m\u001b[0m\n",
      "\u001b[1;32m<ipython-input-48-7afdcf929475>\u001b[0m in \u001b[0;36mD_train\u001b[1;34m(x)\u001b[0m\n\u001b[0;32m      5\u001b[0m     \u001b[1;31m# train discriminator on real\u001b[0m\u001b[1;33m\u001b[0m\u001b[1;33m\u001b[0m\u001b[1;33m\u001b[0m\u001b[0m\n\u001b[0;32m      6\u001b[0m     \u001b[0mx_real\u001b[0m\u001b[1;33m,\u001b[0m \u001b[0my_real\u001b[0m \u001b[1;33m=\u001b[0m \u001b[0mx\u001b[0m\u001b[1;33m.\u001b[0m\u001b[0mview\u001b[0m\u001b[1;33m(\u001b[0m\u001b[1;33m-\u001b[0m\u001b[1;36m1\u001b[0m\u001b[1;33m,\u001b[0m \u001b[0mmnist_dim\u001b[0m\u001b[1;33m)\u001b[0m\u001b[1;33m,\u001b[0m \u001b[0mtorch\u001b[0m\u001b[1;33m.\u001b[0m\u001b[0mones\u001b[0m\u001b[1;33m(\u001b[0m\u001b[0mbs\u001b[0m\u001b[1;33m,\u001b[0m \u001b[1;36m1\u001b[0m\u001b[1;33m)\u001b[0m\u001b[1;33m\u001b[0m\u001b[1;33m\u001b[0m\u001b[0m\n\u001b[1;32m----> 7\u001b[1;33m     \u001b[0mx_real\u001b[0m\u001b[1;33m,\u001b[0m \u001b[0my_real\u001b[0m \u001b[1;33m=\u001b[0m \u001b[0mVariable\u001b[0m\u001b[1;33m(\u001b[0m\u001b[0mx_real\u001b[0m\u001b[1;33m.\u001b[0m\u001b[0mto\u001b[0m\u001b[1;33m(\u001b[0m\u001b[0mdevice\u001b[0m\u001b[1;33m)\u001b[0m\u001b[1;33m)\u001b[0m\u001b[1;33m,\u001b[0m \u001b[0mVariable\u001b[0m\u001b[1;33m(\u001b[0m\u001b[0my_real\u001b[0m\u001b[1;33m.\u001b[0m\u001b[0mto\u001b[0m\u001b[1;33m(\u001b[0m\u001b[0mdevice\u001b[0m\u001b[1;33m)\u001b[0m\u001b[1;33m)\u001b[0m\u001b[1;33m\u001b[0m\u001b[1;33m\u001b[0m\u001b[0m\n\u001b[0m\u001b[0;32m      8\u001b[0m \u001b[1;33m\u001b[0m\u001b[0m\n\u001b[0;32m      9\u001b[0m     \u001b[0mD_output\u001b[0m \u001b[1;33m=\u001b[0m \u001b[0mD\u001b[0m\u001b[1;33m(\u001b[0m\u001b[0mx_real\u001b[0m\u001b[1;33m)\u001b[0m\u001b[1;33m\u001b[0m\u001b[1;33m\u001b[0m\u001b[0m\n",
      "\u001b[1;31mKeyboardInterrupt\u001b[0m: "
     ]
    }
   ],
   "source": [
    "n_epoch = 100\n",
    "for epoch in range(1, n_epoch+1):           \n",
    "    D_losses, G_losses = [], []\n",
    "    for batch_idx, (x, _) in enumerate(train_loader):\n",
    "        D_losses.append(D_train(x))\n",
    "        G_losses.append(G_train(x))\n",
    "\n",
    "    print('[%d/%d]: loss_d: %.3f, loss_g: %.3f' % (\n",
    "            (epoch), n_epoch, torch.mean(torch.FloatTensor(D_losses)), torch.mean(torch.FloatTensor(G_losses))))"
   ]
  },
  {
   "cell_type": "code",
   "execution_count": 85,
   "metadata": {},
   "outputs": [],
   "source": [
    "with torch.no_grad():\n",
    "    test_z = Variable(torch.randn(bs, z_dim).to(device))\n",
    "    generated = G(test_z)"
   ]
  },
  {
   "cell_type": "code",
   "execution_count": 86,
   "metadata": {},
   "outputs": [
    {
     "output_type": "execute_result",
     "data": {
      "text/plain": [
       "torch.Size([100, 784])"
      ]
     },
     "metadata": {},
     "execution_count": 86
    }
   ],
   "source": [
    "generated.shape"
   ]
  },
  {
   "cell_type": "code",
   "execution_count": 87,
   "metadata": {},
   "outputs": [
    {
     "output_type": "display_data",
     "data": {
      "text/plain": "<Figure size 1440x1440 with 4 Axes>",
      "image/svg+xml": "<?xml version=\"1.0\" encoding=\"utf-8\" standalone=\"no\"?>\r\n<!DOCTYPE svg PUBLIC \"-//W3C//DTD SVG 1.1//EN\"\r\n  \"http://www.w3.org/Graphics/SVG/1.1/DTD/svg11.dtd\">\r\n<!-- Created with matplotlib (https://matplotlib.org/) -->\r\n<svg height=\"257.008696pt\" version=\"1.1\" viewBox=\"0 0 1130.4 257.008696\" width=\"1130.4pt\" xmlns=\"http://www.w3.org/2000/svg\" xmlns:xlink=\"http://www.w3.org/1999/xlink\">\r\n <metadata>\r\n  <rdf:RDF xmlns:cc=\"http://creativecommons.org/ns#\" xmlns:dc=\"http://purl.org/dc/elements/1.1/\" xmlns:rdf=\"http://www.w3.org/1999/02/22-rdf-syntax-ns#\">\r\n   <cc:Work>\r\n    <dc:type rdf:resource=\"http://purl.org/dc/dcmitype/StillImage\"/>\r\n    <dc:date>2021-04-01T18:35:55.747200</dc:date>\r\n    <dc:format>image/svg+xml</dc:format>\r\n    <dc:creator>\r\n     <cc:Agent>\r\n      <dc:title>Matplotlib v3.3.2, https://matplotlib.org/</dc:title>\r\n     </cc:Agent>\r\n    </dc:creator>\r\n   </cc:Work>\r\n  </rdf:RDF>\r\n </metadata>\r\n <defs>\r\n  <style type=\"text/css\">*{stroke-linecap:butt;stroke-linejoin:round;}</style>\r\n </defs>\r\n <g id=\"figure_1\">\r\n  <g id=\"patch_1\">\r\n   <path d=\"M 0 257.008696 \r\nL 1130.4 257.008696 \r\nL 1130.4 0 \r\nL 0 0 \r\nz\r\n\" style=\"fill:none;\"/>\r\n  </g>\r\n  <g id=\"axes_1\">\r\n   <g clip-path=\"url(#p22789be8f4)\">\r\n    <image height=\"243\" id=\"imaged5850720df\" transform=\"scale(1 -1)translate(0 -243)\" width=\"243\" x=\"7.2\" xlink:href=\"data:image/png;base64,\r\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\" y=\"-6.808696\"/>\r\n   </g>\r\n  </g>\r\n  <g id=\"axes_2\">\r\n   <g clip-path=\"url(#p2fdc1f0fe4)\">\r\n    <image height=\"243\" id=\"imagee822035552\" transform=\"scale(1 -1)translate(0 -243)\" width=\"243\" x=\"298.330435\" xlink:href=\"data:image/png;base64,\r\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\" y=\"-6.808696\"/>\r\n   </g>\r\n  </g>\r\n  <g id=\"axes_3\">\r\n   <g clip-path=\"url(#p32832a8602)\">\r\n    <image height=\"243\" id=\"imagee55ee9cd05\" transform=\"scale(1 -1)translate(0 -243)\" width=\"243\" x=\"589.46087\" xlink:href=\"data:image/png;base64,\r\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\" y=\"-6.808696\"/>\r\n   </g>\r\n  </g>\r\n  <g id=\"axes_4\">\r\n   <g clip-path=\"url(#pde804c93f9)\">\r\n    <image height=\"243\" id=\"imagee11dbdc6a9\" transform=\"scale(1 -1)translate(0 -243)\" width=\"243\" x=\"880.591304\" xlink:href=\"data:image/png;base64,\r\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\" y=\"-6.808696\"/>\r\n   </g>\r\n  </g>\r\n </g>\r\n <defs>\r\n  <clipPath id=\"p22789be8f4\">\r\n   <rect height=\"242.608696\" width=\"242.608696\" x=\"7.2\" y=\"7.2\"/>\r\n  </clipPath>\r\n  <clipPath id=\"p2fdc1f0fe4\">\r\n   <rect height=\"242.608696\" width=\"242.608696\" x=\"298.330435\" y=\"7.2\"/>\r\n  </clipPath>\r\n  <clipPath id=\"p32832a8602\">\r\n   <rect height=\"242.608696\" width=\"242.608696\" x=\"589.46087\" y=\"7.2\"/>\r\n  </clipPath>\r\n  <clipPath id=\"pde804c93f9\">\r\n   <rect height=\"242.608696\" width=\"242.608696\" x=\"880.591304\" y=\"7.2\"/>\r\n  </clipPath>\r\n </defs>\r\n</svg>\r\n",
      "image/png": "[encoded data removed]"
     },
     "metadata": {
      "needs_background": "light"
     }
    }
   ],
   "source": [
    "import matplotlib.pyplot as plt\n",
    "generated.cpu()\n",
    "plt.figure(figsize=(20,20))\n",
    "for i in range(4):\n",
    "    plt.subplot(2,4,i+1)\n",
    "    plt.axis('off')\n",
    "    plt.imshow(generated[int(100*torch.rand(1)),:].cpu().view(1, 28, 28)[0,:,:] *5)"
   ]
  },
  {
   "cell_type": "code",
   "execution_count": 72,
   "metadata": {},
   "outputs": [
    {
     "output_type": "execute_result",
     "data": {
      "text/plain": [
       "tensor([0.7409])"
      ]
     },
     "metadata": {},
     "execution_count": 72
    }
   ],
   "source": [
    "torch.rand(1)"
   ]
  },
  {
   "cell_type": "code",
   "execution_count": null,
   "metadata": {},
   "outputs": [],
   "source": []
  }
 ]
}