{
 "metadata": {
  "language_info": {
   "codemirror_mode": {
    "name": "ipython",
    "version": 3
   },
   "file_extension": ".py",
   "mimetype": "text/x-python",
   "name": "python",
   "nbconvert_exporter": "python",
   "pygments_lexer": "ipython3",
   "version": "3.8.5-final"
  },
  "orig_nbformat": 2,
  "kernelspec": {
   "name": "python3",
   "display_name": "Python 3.8.5 64-bit (conda)",
   "metadata": {
    "interpreter": {
     "hash": "07efdcd4b820c98a756949507a4d29d7862823915ec7477944641bea022f4f62"
    }
   }
  }
 },
 "nbformat": 4,
 "nbformat_minor": 2,
 "cells": [
  {
   "cell_type": "code",
   "execution_count": 12,
   "metadata": {},
   "outputs": [],
   "source": [
    "import numpy as np\n",
    "import torch\n",
    "from torch import nn\n",
    "import torch.nn.functional as F\n",
    "import math\n",
    "from sklearn.preprocessing import normalize\n",
    "from IPython import display\n",
    "import random\n",
    "from sklearn.model_selection import train_test_split\n",
    "import matplotlib.pyplot as plt"
   ]
  },
  {
   "cell_type": "code",
   "execution_count": 13,
   "metadata": {},
   "outputs": [],
   "source": [
    "device = torch.device(\"cuda:0\" if torch.cuda.is_available() else \"cpu\")"
   ]
  },
  {
   "cell_type": "code",
   "execution_count": 206,
   "metadata": {},
   "outputs": [
    {
     "output_type": "stream",
     "name": "stdout",
     "text": [
      "(5000, 1, 20, 20)\n(5000,)\n"
     ]
    }
   ],
   "source": [
    "Xp = np.genfromtxt(\"X.csv\", delimiter = \",\")\n",
    "y = np.genfromtxt(\"y.csv\", delimiter = \",\")\n",
    "y[0:500] = 0\n",
    "X = np.zeros((5000,1,20,20))\n",
    "X = np.reshape(Xp, (5000,1,20,20))\n",
    "X = np.rot90(X,k = 1, axes = (2,3))\n",
    "X = np.flip(X, 2)\n",
    "\n",
    "print(X.shape)\n",
    "print(y.shape)"
   ]
  },
  {
   "cell_type": "code",
   "execution_count": 207,
   "metadata": {},
   "outputs": [],
   "source": [
    "Xtrain, Xtest, ytrain, ytest = train_test_split(X ,y , test_size = 0.25, random_state = 42)"
   ]
  },
  {
   "cell_type": "code",
   "execution_count": 209,
   "metadata": {},
   "outputs": [
    {
     "output_type": "display_data",
     "data": {
      "text/plain": "<Figure size 432x288 with 1 Axes>",
      "image/svg+xml": "<?xml version=\"1.0\" encoding=\"utf-8\" standalone=\"no\"?>\r\n<!DOCTYPE svg PUBLIC \"-//W3C//DTD SVG 1.1//EN\"\r\n  \"http://www.w3.org/Graphics/SVG/1.1/DTD/svg11.dtd\">\r\n<!-- Created with matplotlib (https://matplotlib.org/) -->\r\n<svg height=\"231.84pt\" version=\"1.1\" viewBox=\"0 0 231.84 231.84\" width=\"231.84pt\" xmlns=\"http://www.w3.org/2000/svg\" xmlns:xlink=\"http://www.w3.org/1999/xlink\">\r\n <metadata>\r\n  <rdf:RDF xmlns:cc=\"http://creativecommons.org/ns#\" xmlns:dc=\"http://purl.org/dc/elements/1.1/\" xmlns:rdf=\"http://www.w3.org/1999/02/22-rdf-syntax-ns#\">\r\n   <cc:Work>\r\n    <dc:type rdf:resource=\"http://purl.org/dc/dcmitype/StillImage\"/>\r\n    <dc:date>2021-02-24T23:27:01.110064</dc:date>\r\n    <dc:format>image/svg+xml</dc:format>\r\n    <dc:creator>\r\n     <cc:Agent>\r\n      <dc:title>Matplotlib v3.3.2, https://matplotlib.org/</dc:title>\r\n     </cc:Agent>\r\n    </dc:creator>\r\n   </cc:Work>\r\n  </rdf:RDF>\r\n </metadata>\r\n <defs>\r\n  <style type=\"text/css\">*{stroke-linecap:butt;stroke-linejoin:round;}</style>\r\n </defs>\r\n <g id=\"figure_1\">\r\n  <g id=\"patch_1\">\r\n   <path d=\"M 0 231.84 \r\nL 231.84 231.84 \r\nL 231.84 0 \r\nL 0 0 \r\nz\r\n\" style=\"fill:none;\"/>\r\n  </g>\r\n  <g id=\"axes_1\">\r\n   <g clip-path=\"url(#p7bb7c530c1)\">\r\n    <image height=\"218\" id=\"image355bdfd7d7\" transform=\"scale(1 -1)translate(0 -218)\" width=\"218\" x=\"7.2\" xlink:href=\"data:image/png;base64,\r\niVBORw0KGgoAAAANSUhEUgAAANoAAADaCAYAAADAHVzbAAAFu0lEQVR4nO3dP2+NbxzH8XN62pL6F0JFBJOFRMSKDjibsElMTZiNnoCN1RMweQgM/oSI3SCGLhLStDU5EarqtB6A4fe9hvPR09/rNX9yp2nz7rVcue/uYDDY7DBWJicny9upqanydm1trbzd2Ngob+l0Jv71DwD/B0KDAKFBgNAgQGgQIDQIEBoECA0ChAYBQoOA+l0eRqrX65W379+/L2/fvn1b3l69erW8PXLkSHnrupYTDSKEBgFCgwChQYDQIEBoECA0CBAaBAgNAoQGAV1vwRqdbrdb3g6Hw/J2fn6+vH327Fl52+/3y9uHDx+WtwcOHCjttvNVLScaBAgNAoQGAUKDAKFBgNAgQGgQIDQIEBoECA0CvAVrhFquYP348aO8XV5eLm/37dtX3l67dq28bfkY4uamW35ONAgQGgQIDQKEBgFCgwChQYDQIEBoECA0CBAaBLiCtUV8/fq1vB0MBuXtzMxMeXv58uXydv/+/eXt+vp6ebtdOdEgQGgQIDQIEBoECA0ChAYBQoMAoUGA0CBAaBDgCtYItbwF6+fPn+Xt2tpaedvydq2FhYXydnZ2trzFiQYRQoMAoUGA0CBAaBAgNAgQGgQIDQKEBgFuhoxQy3fBdu7cOZJty7fUPn36VN623HrBiQYRQoMAoUGA0CBAaBAgNAgQGgQIDQKEBgFCgwBXsDpt14kmJur/m6anp8vbQ4cOlbcXL14sb1dWVspbRseJBgFCgwChQYDQIEBoECA0CBAaBAgNAoQGAUKDgG17BWtqaqq8bfne2JcvX8rbDx8+lLffvn0rb8+ePVvePn/+vLx99+5deTs/P1/e/v79u7RreWvYuHGiQYDQIEBoECA0CBAaBAgNAoQGAUKDAKFBgNAgYOyuYFXfWPXixYvyMx8/flzefvz4sbz9/Plzebu6ulretrxd69evX+XtmzdvytvXr1+Xt6dPny7tdu/eXX7muF3XcqJBgNAgQGgQIDQIEBoECA0ChAYBQoMAoUGA0CCgOxgM/vldlpYPAQ6Hw9Lu1q1b5Wc+efKkvG35WVvexLVr167y9uDBg+Xt4uJieTuqa0337t0r7W7fvl1+ZvXNWluFEw0ChAYBQoMAoUGA0CBAaBAgNAgQGgQIDQKEBgFj9xas6ludWj6q13JV6ubNm+Xt3NxcedvyBqgTJ06Utw8ePChvX716Vd7euXOnvO33+6XdxsZG+ZnjxokGAUKDAKFBgNAgQGgQIDQIEBoECA0ChAYBQoOAsbuC1ev1Srvjx4+Xn7m0tFTe3rhxo7y9cuVKedvywcDJyfqf7fr16+Vty8cFjx07Vt6ePHmytPv+/Xv5mePGiQYBQoMAoUGA0CBAaBAgNAgQGgQIDQKEBgFCg4Cxu4I1MVH73zAzMzPin+S/ra6ulrfr6+vlbfV30Om0vYlrdna2vH306FF5e+HChdLu8OHD5Wf6ECHwF6FBgNAgQGgQIDQIEBoECA0ChAYBQoMAoUHA2F3Bqn408MyZM+VnPn36tLx9+fJleXv+/PnytkXLB/v27NlT3t6/f7+8vXv3bnm7sLBQ2h09erT8TFewgL8IDQKEBgFCgwChQYDQIEBoECA0CBAaBAgNArbEFazNzc3yttvtlnb9fr/8zMXFxfL21KlT5W3LValRaXlj1rlz58rbS5culbd79+4t7bbC72tUnGgQIDQIEBoECA0ChAYBQoMAoUGA0CBAaBDQHQwG9WsZY6TX65W309PT5W3LS2Favnm2FVRv3XQ6nc6OHTvK2+rvYTgclp85bpxoECA0CBAaBAgNAoQGAUKDAKFBgNAgQGgQIDQI2LZXsGArcaJBgNAgQGgQIDQIEBoECA0ChAYBQoMAoUGA0CBAaBAgNAgQGgQIDQKEBgFCgwChQYDQIEBoECA0CBAaBAgNAoQGAUKDAKFBgNAgQGgQIDQIEBoECA0ChAYBQoOAP3Ft9Dog4jBIAAAAAElFTkSuQmCC\" y=\"-6.64\"/>\r\n   </g>\r\n  </g>\r\n </g>\r\n <defs>\r\n  <clipPath id=\"p7bb7c530c1\">\r\n   <rect height=\"217.44\" width=\"217.44\" x=\"7.2\" y=\"7.2\"/>\r\n  </clipPath>\r\n </defs>\r\n</svg>\r\n",
      "image/png": "[encoded data removed]"
     },
     "metadata": {
      "needs_background": "light"
     }
    }
   ],
   "source": [
    "img = Xtrain[2839,0,:,:]\n",
    "plt.imshow(img, cmap = \"binary\")\n",
    "plt.axis(\"off\")\n",
    "plt.show()"
   ]
  },
  {
   "cell_type": "code",
   "execution_count": 210,
   "metadata": {},
   "outputs": [],
   "source": [
    "Xtrain = torch.tensor(Xtrain).to(device)\n",
    "ytrain = torch.tensor(ytrain).to(device)\n",
    "Xtest = torch.tensor(Xtest).to(device)\n",
    "ytest = torch.tensor(ytest).to(device)\n"
   ]
  },
  {
   "cell_type": "code",
   "execution_count": 276,
   "metadata": {},
   "outputs": [],
   "source": [
    "class Net(nn.Module):\n",
    "\n",
    "    def __init__(self):\n",
    "        super().__init__()\n",
    "        self.conv1 = nn.Conv2d(1, 10, 5, 1)\n",
    "        self.conv2 = nn.Conv2d(10, 20, 5, 1)\n",
    "        self.fc1 = nn.Linear(80, 200)\n",
    "        self.fc2 = nn.Linear(200, 10)\n",
    "    \n",
    "    def forward(self, x):\n",
    "        x = F.relu(self.conv1(x))\n",
    "        x = F.max_pool2d(x, 2, 2)\n",
    "        x = F.relu(self.conv2(x))\n",
    "        x = F.max_pool2d(x, 2, 2)\n",
    "        x = x.view(-1,80)\n",
    "        x = F.relu(self.fc1(x))\n",
    "        x = F.softmax(self.fc2(x), dim = 1)\n",
    "        return x\n",
    "        "
   ]
  },
  {
   "cell_type": "code",
   "execution_count": 277,
   "metadata": {},
   "outputs": [
    {
     "output_type": "stream",
     "name": "stdout",
     "text": [
      "[EPOCH]: 999, [LOSS]: 1.470966, [ACCURACY]: 0.990\n"
     ]
    }
   ],
   "source": [
    "model = Net()\n",
    "\n",
    "learning_rate = 1e-3\n",
    "lambda_l2 = 1e-5\n",
    "\n",
    "criterion = nn.CrossEntropyLoss()\n",
    "optimizer = torch.optim.Adam(model.parameters(), lr = learning_rate, weight_decay=lambda_l2)\n",
    "\n",
    "epochs = 1000\n",
    "\n",
    "for i in range(epochs):\n",
    "    y_pred = model(Xtrain.float())\n",
    "    loss = criterion(y_pred, ytrain.long())\n",
    "    score, predicted = torch.max(y_pred, 1) \n",
    "    acc = (ytrain == predicted).sum().float() / len(ytrain)\n",
    "    display.clear_output(wait=True)\n",
    "    print(\"[EPOCH]: %i, [LOSS]: %.6f, [ACCURACY]: %.3f\" % (i, loss.item(), acc))\n",
    "    optimizer.zero_grad()\n",
    "    loss.backward()\n",
    "    optimizer.step()  "
   ]
  },
  {
   "cell_type": "code",
   "execution_count": 278,
   "metadata": {},
   "outputs": [
    {
     "output_type": "stream",
     "name": "stdout",
     "text": [
      "Accuracy on test set is 0.9639999866485596\n"
     ]
    }
   ],
   "source": [
    "y_t = model(Xtest.float())\n",
    "score, predicted = torch.max(y_t, 1) \n",
    "acc = (ytest == predicted).sum().float() / len(ytest)\n",
    "print(f\"Accuracy on test set is {acc}\")"
   ]
  },
  {
   "cell_type": "code",
   "execution_count": 321,
   "metadata": {},
   "outputs": [
    {
     "output_type": "stream",
     "name": "stdout",
     "text": [
      "[INFO]...\n  the number with 0.9999960660934448 probabality is 9.\n\n"
     ]
    },
    {
     "output_type": "display_data",
     "data": {
      "text/plain": "<Figure size 432x288 with 1 Axes>",
      "image/svg+xml": "<?xml version=\"1.0\" encoding=\"utf-8\" standalone=\"no\"?>\r\n<!DOCTYPE svg PUBLIC \"-//W3C//DTD SVG 1.1//EN\"\r\n  \"http://www.w3.org/Graphics/SVG/1.1/DTD/svg11.dtd\">\r\n<!-- Created with matplotlib (https://matplotlib.org/) -->\r\n<svg height=\"231.84pt\" version=\"1.1\" viewBox=\"0 0 231.84 231.84\" width=\"231.84pt\" xmlns=\"http://www.w3.org/2000/svg\" xmlns:xlink=\"http://www.w3.org/1999/xlink\">\r\n <metadata>\r\n  <rdf:RDF xmlns:cc=\"http://creativecommons.org/ns#\" xmlns:dc=\"http://purl.org/dc/elements/1.1/\" xmlns:rdf=\"http://www.w3.org/1999/02/22-rdf-syntax-ns#\">\r\n   <cc:Work>\r\n    <dc:type rdf:resource=\"http://purl.org/dc/dcmitype/StillImage\"/>\r\n    <dc:date>2021-02-25T00:43:49.085608</dc:date>\r\n    <dc:format>image/svg+xml</dc:format>\r\n    <dc:creator>\r\n     <cc:Agent>\r\n      <dc:title>Matplotlib v3.3.2, https://matplotlib.org/</dc:title>\r\n     </cc:Agent>\r\n    </dc:creator>\r\n   </cc:Work>\r\n  </rdf:RDF>\r\n </metadata>\r\n <defs>\r\n  <style type=\"text/css\">*{stroke-linecap:butt;stroke-linejoin:round;}</style>\r\n </defs>\r\n <g id=\"figure_1\">\r\n  <g id=\"patch_1\">\r\n   <path d=\"M 0 231.84 \r\nL 231.84 231.84 \r\nL 231.84 0 \r\nL 0 0 \r\nz\r\n\" style=\"fill:none;\"/>\r\n  </g>\r\n  <g id=\"axes_1\">\r\n   <g clip-path=\"url(#p43059b9453)\">\r\n    <image height=\"218\" id=\"image44022e7ba6\" transform=\"scale(1 -1)translate(0 -218)\" width=\"218\" x=\"7.2\" xlink:href=\"data:image/png;base64,\r\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\" y=\"-6.64\"/>\r\n   </g>\r\n  </g>\r\n </g>\r\n <defs>\r\n  <clipPath id=\"p43059b9453\">\r\n   <rect height=\"217.44\" width=\"217.44\" x=\"7.2\" y=\"7.2\"/>\r\n  </clipPath>\r\n </defs>\r\n</svg>\r\n",
      "image/png": "[encoded data removed]"
     },
     "metadata": {
      "needs_background": "light"
     }
    }
   ],
   "source": [
    "index = 88\n",
    "a = np.zeros((1,1,20,20))\n",
    "a[0,:,:,:] = Xtest[index,:,:,:].numpy()\n",
    "a = torch.tensor(a)\n",
    "arg = torch.argmax(model(a.float()))\n",
    "prb = torch.max(model(a.float()))\n",
    "print(\"[INFO]...\")\n",
    "print(f\"  the number with {prb} probabality is {arg}.\")\n",
    "print()\n",
    "img = np.reshape(Xtest[index,:], (20,20))\n",
    "plt.imshow(img, cmap = \"binary\")\n",
    "plt.axis(\"off\")\n",
    "plt.show()"
   ]
  },
  {
   "cell_type": "code",
   "execution_count": null,
   "metadata": {},
   "outputs": [],
   "source": []
  }
 ]
}