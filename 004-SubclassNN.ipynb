{
 "metadata": {
  "language_info": {
   "codemirror_mode": {
    "name": "ipython",
    "version": 3
   },
   "file_extension": ".py",
   "mimetype": "text/x-python",
   "name": "python",
   "nbconvert_exporter": "python",
   "pygments_lexer": "ipython3",
   "version": "3.8.5-final"
  },
  "orig_nbformat": 2,
  "kernelspec": {
   "name": "python3",
   "display_name": "Python 3.8.5 64-bit (conda)",
   "metadata": {
    "interpreter": {
     "hash": "07efdcd4b820c98a756949507a4d29d7862823915ec7477944641bea022f4f62"
    }
   }
  }
 },
 "nbformat": 4,
 "nbformat_minor": 2,
 "cells": [
  {
   "cell_type": "code",
   "execution_count": 1,
   "metadata": {},
   "outputs": [],
   "source": [
    "# import pachages\n",
    "import torch\n",
    "from torch import nn"
   ]
  },
  {
   "cell_type": "code",
   "execution_count": 2,
   "metadata": {},
   "outputs": [],
   "source": [
    "image = torch.randn(3, 10, 20)  # Define input\n",
    "d0 = image.nelement()   # flatten input to 600 point (1 * 600 dimentional)"
   ]
  },
  {
   "source": [
    "* Sequentional \n",
    "* Functional\n",
    "* Subclass (This example)"
   ],
   "cell_type": "markdown",
   "metadata": {}
  },
  {
   "cell_type": "code",
   "execution_count": 3,
   "metadata": {},
   "outputs": [],
   "source": [
    "\n",
    "class mynet(nn.Module): # define class that extends nn.module\n",
    "\n",
    "    def __init__(self, d0, d1, d2, d3): # init ___init___ methode\n",
    "        super().__init__()  \n",
    "        self.m0 = nn.Linear(d0, d1)\n",
    "        self.m1 = nn.Linear(d1, d2)\n",
    "        self.m2 = nn.Linear(d2, d3)\n",
    "\n",
    "    def forward(self, x):\n",
    "        z0 = x.view(-1)\n",
    "        s1 = self.m0(z0)\n",
    "        z1 = torch.relu(s1)\n",
    "        s2 = self.m1(z1)\n",
    "        z2 = torch.relu(s2)\n",
    "        s3 = self.m2(z2)\n",
    "        z3 = torch.relu(s3)\n",
    "        return z3\n"
   ]
  },
  {
   "cell_type": "code",
   "execution_count": 4,
   "metadata": {},
   "outputs": [
    {
     "output_type": "stream",
     "name": "stdout",
     "text": [
      "tensor([0.0000, 0.2626, 0.0763, 0.0000, 0.0464, 0.0282, 0.1043, 0.0785, 0.0000,\n        0.0000], grad_fn=<ReluBackward0>)\ntensor([0.0000, 0.2626, 0.0763, 0.0000, 0.0464, 0.0282, 0.1043, 0.0785, 0.0000,\n        0.0000], grad_fn=<ReluBackward0>)\n"
     ]
    }
   ],
   "source": [
    "model = mynet(d0, 60, 40, 10)\n",
    "out = model(image)\n",
    "print(out)\n",
    "print(model.forward(image))"
   ]
  },
  {
   "cell_type": "code",
   "execution_count": null,
   "metadata": {},
   "outputs": [],
   "source": []
  }
 ]
}